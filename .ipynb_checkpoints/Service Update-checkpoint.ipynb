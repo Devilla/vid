{
 "cells": [
  {
   "cell_type": "code",
   "execution_count": 3,
   "metadata": {},
   "outputs": [],
   "source": [
    "import os, django\n",
    "os.environ.setdefault(\"DJANGO_SETTINGS_MODULE\", \"ipfs.settings\")\n",
    "import schedule\n",
    "\n",
    "django.setup()"
   ]
  },
  {
   "cell_type": "code",
   "execution_count": 10,
   "metadata": {},
   "outputs": [],
   "source": [
    "import ipfsapi"
   ]
  },
  {
   "cell_type": "code",
   "execution_count": 11,
   "metadata": {},
   "outputs": [],
   "source": [
    "api = ipfsapi.connect('127.0.0.1', 5001)"
   ]
  },
  {
   "cell_type": "code",
   "execution_count": 22,
   "metadata": {},
   "outputs": [],
   "source": []
  },
  {
   "cell_type": "code",
   "execution_count": 21,
   "metadata": {},
   "outputs": [
    {
     "data": {
      "text/plain": [
       "['django.core.files.uploadhandler.MemoryFileUploadHandler',\n",
       " 'django.core.files.uploadhandler.TemporaryFileUploadHandler',\n",
       " 'uploadprogresscachedhandler.UploadProgressCachedHandler',\n",
       " 'uploadprogresscachedhandler.UploadProgressCachedHandler']"
      ]
     },
     "execution_count": 21,
     "metadata": {},
     "output_type": "execute_result"
    }
   ],
   "source": [
    "global_settings.FILE_UPLOAD_HANDLERS"
   ]
  },
  {
   "cell_type": "code",
   "execution_count": 6,
   "metadata": {},
   "outputs": [],
   "source": [
    "from core.models import AssetPrice\n",
    "from upload.models import Video, SteemVideo, WhaleShareVideo, SmokeVideo"
   ]
  },
  {
   "cell_type": "code",
   "execution_count": 1,
   "metadata": {},
   "outputs": [],
   "source": [
    "def get_payout(s, author, permlink):\n",
    "    try:\n",
    "        acc = Comment(\"@{}/{}\".format(author, permlink), steem_instance=s)\n",
    "        payout = float(str(acc.reward).split()[0])\n",
    "    except Exception as e:\n",
    "        print(\"Error in payout: {}\".format(str(e)))\n",
    "        payout = 0.00\n",
    "    \n",
    "    return payout"
   ]
  },
  {
   "cell_type": "code",
   "execution_count": 7,
   "metadata": {},
   "outputs": [],
   "source": [
    "def update_prices():\n",
    "    '''\n",
    "    Gets the price for steem, smoke and whaleshares\n",
    "    '''\n",
    "\n",
    "    print(\"Updating price\")\n",
    "    steem_price = 0\n",
    "    smoke_price = 0\n",
    "    whaleshare_price = 0\n",
    "\n",
    "    latest_price = AssetPrice.objects.all().order_by('-curr_time')[:1][0]\n",
    "    steem_price = latest_price.steem_price\n",
    "    smoke_price = latest_price.smoke_price\n",
    "    whaleshare_price = latest_price.whaleshare_price\n",
    "\n",
    "    try:\n",
    "        r=requests.get(\"https://pro-api.coinmarketcap.com/v1/cryptocurrency/quotes/latest?symbol=STEEM,USD\", headers={\"X-CMC_PRO_API_KEY\":\"030f8706-dc8a-442b-82bb-8824eecf4e6e\"}, timeout=1)\n",
    "        res = json.loads(r.text)\n",
    "        p = float(res['data']['STEEM']['quote']['USD']['price'])\n",
    "\n",
    "        if p > 0:\n",
    "            steem_price = p\n",
    "    except:\n",
    "        pass\n",
    "\n",
    "    try:\n",
    "        r=requests.get(\"https://cryptofresh.com/api/asset/markets?asset=SMOKE\", timeout=0.1)\n",
    "        res = json.loads(r.text)\n",
    "        p = float(res['USD']['price'])\n",
    "\n",
    "        if p > 0:\n",
    "            smoke_price = p\n",
    "    except:\n",
    "        pass\n",
    "\n",
    "    try:\n",
    "        r=requests.get(\"https://cryptofresh.com/api/asset/markets?asset=WHALESHARE\")\n",
    "        res = json.loads(r.text)\n",
    "        p = float(res['USD']['price'])\n",
    "\n",
    "        if p > 0:\n",
    "            whaleshare_price = p\n",
    "    except:\n",
    "        pass\n",
    "\n",
    "    a = AssetPrice(steem_price=steem_price, smoke_price=smoke_price, whaleshare_price=whaleshare_price)\n",
    "    a.save()"
   ]
  },
  {
   "cell_type": "code",
   "execution_count": 8,
   "metadata": {},
   "outputs": [],
   "source": [
    "def update_single_earning_like_dislike(video_id):\n",
    "\n",
    "    total_likes = 0\n",
    "    total_dislikes = 0\n",
    "\n",
    "    total_earning = 0.0\n",
    "\n",
    "    latest_price = AssetPrice.objects.all().order_by('-curr_time')[:1][0]\n",
    "    steem_price = latest_price.steem_price\n",
    "    smoke_price = latest_price.smoke_price\n",
    "    whaleshare_price = latest_price.whaleshare_price\n",
    "\n",
    "    video_details = Video.objects.get(id=video_id)\n",
    "\n",
    "    try:\n",
    "        single_val = SteemVideo.objects.get(video_id=video_id)\n",
    "\n",
    "        permlink = single_val.permlink\n",
    "        author = single_val.author\n",
    "\n",
    "        try:\n",
    "            s_upvote, s_downvote = get_votes(s_no_auth, author, permlink)\n",
    "            total_likes = total_likes + s_upvote\n",
    "            total_dislikes = total_dislikes + s_downvote\n",
    "        except Exception as e:\n",
    "            print(\"Steem upvote error: {}\".format(str(e)))\n",
    "\n",
    "        steem_payout = get_payout(s_no_auth, author, permlink) * steem_price\n",
    "        total_earning = total_earning + steem_payout\n",
    "\n",
    "        video_details.steem = steem_payout\n",
    "\n",
    "        print(\"Updated\")\n",
    "    except Exception as e: \n",
    "        print('No Steem. Error is {}'.format(str(e)))\n",
    "\n",
    "    try:\n",
    "        single_val = SmokeVideo.objects.get(video_id=video_id)\n",
    "\n",
    "        permlink = single_val.permlink\n",
    "        author = single_val.author\n",
    "\n",
    "        try:\n",
    "            sm_upvote, sm_downvote = get_votes(sm_no_auth, author, permlink)\n",
    "            total_likes = total_likes + sm_upvote\n",
    "            total_dislikes = total_dislikes + sm_downvote\n",
    "        except Exception as e:\n",
    "            print(\"Smoke upvote error: {}\".format(str(e)))\n",
    "\n",
    "        smoke_payout = get_payout(sm_no_auth, author, permlink) * smoke_price\n",
    "        total_earning = total_earning + smoke_payout\n",
    "        \n",
    "        video_details.smoke = smoke_payout\n",
    "\n",
    "        print(\"Updated\")\n",
    "    except Exception as e: \n",
    "        print('No Smoke. Error is {}'.format(str(e)))\n",
    "\n",
    "    try:\n",
    "        single_val = WhaleShareVideo.objects.get(video_id=video_id)\n",
    "\n",
    "        permlink = single_val.permlink\n",
    "        author = single_val.author\n",
    "\n",
    "        try:\n",
    "            w_upvote, w_downvote = get_votes(w_no_auth, author, permlink)\n",
    "            total_likes = total_likes + w_upvote\n",
    "            total_dislikes = total_dislikes + w_downvote\n",
    "        except Exception as e:\n",
    "            print(\"Whaleshare upvote error: {}\".format(str(e)))\n",
    "\n",
    "        whale_payout = get_payout(w_no_auth, author, permlink) * whaleshare_price\n",
    "        total_earning = total_earning + whale_payout\n",
    "        \n",
    "        video_details.whaleshares = whale_payout\n",
    "\n",
    "        print(\"Updated\")\n",
    "    except Exception as e: \n",
    "        print('No Whaleshares. Error is {}'.format(str(e)))\n",
    "\n",
    "    video_details.total_earning = total_earning\n",
    "    video_details.thumbsUp =  total_likes\n",
    "    video_details.thumbsDown = total_dislikes\n",
    "    video_details.save()"
   ]
  },
  {
   "cell_type": "code",
   "execution_count": 9,
   "metadata": {},
   "outputs": [
    {
     "name": "stdout",
     "output_type": "stream",
     "text": [
      "Steem upvote error: name 'get_votes' is not defined\n",
      "No Steem. Error is name 'get_payout' is not defined\n",
      "Smoke upvote error: name 'get_votes' is not defined\n",
      "No Smoke. Error is name 'get_payout' is not defined\n",
      "Whaleshare upvote error: name 'get_votes' is not defined\n",
      "No Whaleshares. Error is name 'get_payout' is not defined\n"
     ]
    }
   ],
   "source": [
    "get_videos = Video.objects.all()\n",
    "    \n",
    "for all_videos in get_videos:\n",
    "    video_id = all_videos.id\n",
    "    update_single_earning_like_dislike(video_id)"
   ]
  },
  {
   "cell_type": "code",
   "execution_count": null,
   "metadata": {},
   "outputs": [],
   "source": [
    "schedule.every(10).minutes.do(update_prices)\n",
    "\n",
    "while True:\n",
    "    time.sleep(1)\n",
    "    schedule.run_pending()\n",
    "    \n",
    "thread = Thread(target = keep_updating)\n",
    "thread.start()"
   ]
  },
  {
   "cell_type": "code",
   "execution_count": null,
   "metadata": {},
   "outputs": [],
   "source": []
  }
 ],
 "metadata": {
  "kernelspec": {
   "display_name": "Python 3",
   "language": "python",
   "name": "python3"
  },
  "language_info": {
   "codemirror_mode": {
    "name": "ipython",
    "version": 3
   },
   "file_extension": ".py",
   "mimetype": "text/x-python",
   "name": "python",
   "nbconvert_exporter": "python",
   "pygments_lexer": "ipython3",
   "version": "3.5.2"
  }
 },
 "nbformat": 4,
 "nbformat_minor": 2
}
