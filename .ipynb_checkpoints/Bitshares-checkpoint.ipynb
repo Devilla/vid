{
 "cells": [
  {
   "cell_type": "code",
   "execution_count": 1,
   "metadata": {
    "collapsed": true
   },
   "outputs": [],
   "source": [
    "from bitshares import BitShares\n",
    "import os\n",
    "from bitshares.account import Account\n",
    "from bitshares.memo import Memo"
   ]
  },
  {
   "cell_type": "code",
   "execution_count": 2,
   "metadata": {
    "collapsed": false,
    "scrolled": true
   },
   "outputs": [],
   "source": [
    "pass_phrase = \"OKFjkrk3412\"\n",
    "\n",
    "owner_key = \"5JrC9FxgxtJ8fi8UjPgL57KH27ToVngEZ7Aka6uSSNBFb2XTVgB\"\n",
    "memo_key = \"5KUVfh5zagFRheVT8G4PQXjknw25nuEXizsh3k3JhY3J5cEkq1H\"\n",
    "active_key = \"5JyorRk13HM1WDJ4VvPE7WimPa4KB21qhLQMTcuZkNxBdafdQnV\"\n",
    "\n",
    "bitshares = BitShares(node=[\"wss://openledger.hk/ws\", \"wss://us.nodes.bitshares.ws\", \"wss://bitshares.openledger.info/ws\"])\n",
    "\n",
    "try:\n",
    "    bitshares.wallet.create(pass_phrase)\n",
    "    bitshares.wallet.addPrivateKey(owner_key)\n",
    "    bitshares.wallet.addPrivateKey(active_key)\n",
    "    bitshares.wallet.addPrivateKey(memo_key)\n",
    "except:\n",
    "    bitshares.wallet.unlock(pass_phrase)"
   ]
  },
  {
   "cell_type": "code",
   "execution_count": 3,
   "metadata": {
    "collapsed": false
   },
   "outputs": [
    {
     "data": {
      "text/plain": [
       "[{'account': <Account 1.2.1299021>,\n",
       "  'name': 'vidsocial-13',\n",
       "  'pubkey': 'BTS698yr7SoUubd3vKsi3B1oQGdy3PAfgszPV9aoa1CSvMxtLGRpi',\n",
       "  'type': 'active'},\n",
       " {'account': <Account 1.2.1299021>,\n",
       "  'name': 'vidsocial-13',\n",
       "  'pubkey': 'BTS7hMuewSZAjhW79jCjQxUqxvyM2WCXvbEH8wv29VjfKcmiNWcYg',\n",
       "  'type': 'owner'},\n",
       " {'account': <Account 1.2.1299021>,\n",
       "  'name': 'vidsocial-13',\n",
       "  'pubkey': 'BTS8EBe3P4GUJH1Q9S5fbP7tS4CmAhzQZbutn9EsptCV7Y1cosrwb',\n",
       "  'type': 'memo'},\n",
       " {'account': <Account 1.2.1299021>,\n",
       "  'name': 'vidsocial-13',\n",
       "  'pubkey': 'BTS8EBe3P4GUJH1Q9S5fbP7tS4CmAhzQZbutn9EsptCV7Y1cosrwb',\n",
       "  'type': 'memo'}]"
      ]
     },
     "execution_count": 3,
     "metadata": {},
     "output_type": "execute_result"
    }
   ],
   "source": [
    "bitshares.wallet.getAccounts()"
   ]
  },
  {
   "cell_type": "code",
   "execution_count": 4,
   "metadata": {
    "collapsed": false
   },
   "outputs": [],
   "source": [
    "acc = bitshares.wallet.getAccounts()[0]['account']"
   ]
  },
  {
   "cell_type": "code",
   "execution_count": 5,
   "metadata": {
    "collapsed": false
   },
   "outputs": [
    {
     "name": "stdout",
     "output_type": "stream",
     "text": [
      "1100\n",
      "1000\n"
     ]
    }
   ],
   "source": [
    "for transaction in acc.history():\n",
    "    currInfo = transaction['op'][1]\n",
    "    \n",
    "    if 'to' in currInfo:\n",
    "        valid = currInfo\n",
    "        if(currInfo['to'] == acc.identifier):\n",
    "            print(currInfo['amount']['amount'])\n",
    "        "
   ]
  },
  {
   "cell_type": "code",
   "execution_count": 12,
   "metadata": {
    "collapsed": true
   },
   "outputs": [],
   "source": [
    "m = Memo(blockchain=bitshares)\n",
    "m.blockchain.wallet.unlock(pass_phrase)"
   ]
  },
  {
   "cell_type": "code",
   "execution_count": 13,
   "metadata": {
    "collapsed": false
   },
   "outputs": [
    {
     "data": {
      "text/plain": [
       "'MEMOTOVERIFY'"
      ]
     },
     "execution_count": 13,
     "metadata": {},
     "output_type": "execute_result"
    }
   ],
   "source": [
    "m.decrypt(valid['memo'])"
   ]
  },
  {
   "cell_type": "code",
   "execution_count": null,
   "metadata": {
    "collapsed": true
   },
   "outputs": [],
   "source": []
  }
 ],
 "metadata": {
  "anaconda-cloud": {},
  "kernelspec": {
   "display_name": "Python [conda root]",
   "language": "python",
   "name": "conda-root-py"
  },
  "language_info": {
   "codemirror_mode": {
    "name": "ipython",
    "version": 3
   },
   "file_extension": ".py",
   "mimetype": "text/x-python",
   "name": "python",
   "nbconvert_exporter": "python",
   "pygments_lexer": "ipython3",
   "version": "3.5.2"
  }
 },
 "nbformat": 4,
 "nbformat_minor": 1
}
