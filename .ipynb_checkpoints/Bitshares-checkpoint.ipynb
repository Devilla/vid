{
 "cells": [
  {
   "cell_type": "code",
   "execution_count": 14,
   "metadata": {
    "collapsed": true
   },
   "outputs": [],
   "source": [
    "from bitshares import BitShares\n",
    "import os\n",
    "from bitshares.account import Account\n",
    "from bitshares.memo import Memo\n",
    "import uuid"
   ]
  },
  {
   "cell_type": "code",
   "execution_count": 16,
   "metadata": {
    "collapsed": false,
    "scrolled": true
   },
   "outputs": [],
   "source": [
    "pass_phrase = \"OKFjkrk3412\"\n",
    "\n",
    "owner_key = \"5JrC9FxgxtJ8fi8UjPgL57KH27ToVngEZ7Aka6uSSNBFb2XTVgB\"\n",
    "memo_key = \"5KUVfh5zagFRheVT8G4PQXjknw25nuEXizsh3k3JhY3J5cEkq1H\"\n",
    "active_key = \"5JyorRk13HM1WDJ4VvPE7WimPa4KB21qhLQMTcuZkNxBdafdQnV\"\n",
    "\n",
    "bitshares = BitShares(node=[\"wss://openledger.hk/ws\", \"wss://us.nodes.bitshares.ws\", \"wss://bitshares.openledger.info/ws\"])\n",
    "\n",
    "try:\n",
    "    bitshares.wallet.create(pass_phrase)\n",
    "    bitshares.wallet.addPrivateKey(owner_key)\n",
    "    bitshares.wallet.addPrivateKey(active_key)\n",
    "    bitshares.wallet.addPrivateKey(memo_key)\n",
    "except:\n",
    "    bitshares.wallet.unlock(pass_phrase)"
   ]
  },
  {
   "cell_type": "code",
   "execution_count": 20,
   "metadata": {
    "collapsed": true
   },
   "outputs": [],
   "source": [
    "uid = uuid.uuid4().hex[:16]\n",
    "acc = bitshares.wallet.getAccounts()[0]['account']\n",
    "m = Memo(blockchain=bitshares)\n",
    "m.blockchain.wallet.unlock(pass_phrase)"
   ]
  },
  {
   "cell_type": "code",
   "execution_count": 27,
   "metadata": {
    "collapsed": false
   },
   "outputs": [],
   "source": [
    "def verify_transaction(acc, m, to_send_text, to_send_amount):\n",
    "    for transaction in acc.history():\n",
    "        currInfo = transaction['op'][1]\n",
    "\n",
    "        if 'to' in currInfo:\n",
    "            valid = currInfo\n",
    "            if(currInfo['to'] == acc.identifier):\n",
    "                amount = currInfo['amount']['amount']/100\n",
    "                memo = m.decrypt(valid['memo'])\n",
    "                \n",
    "                if int(to_send_amount) == int(amount) and to_send_text == memo:\n",
    "                    return True\n",
    "        \n",
    "    return False"
   ]
  },
  {
   "cell_type": "code",
   "execution_count": 29,
   "metadata": {
    "collapsed": false
   },
   "outputs": [
    {
     "data": {
      "text/plain": [
       "True"
      ]
     },
     "execution_count": 29,
     "metadata": {},
     "output_type": "execute_result"
    }
   ],
   "source": [
    "verify_transaction(acc, m, 'MEMOTOVERIFY', 10)"
   ]
  }
 ],
 "metadata": {
  "anaconda-cloud": {},
  "kernelspec": {
   "display_name": "Python [conda root]",
   "language": "python",
   "name": "conda-root-py"
  },
  "language_info": {
   "codemirror_mode": {
    "name": "ipython",
    "version": 3
   },
   "file_extension": ".py",
   "mimetype": "text/x-python",
   "name": "python",
   "nbconvert_exporter": "python",
   "pygments_lexer": "ipython3",
   "version": "3.5.2"
  }
 },
 "nbformat": 4,
 "nbformat_minor": 1
}
