{
 "cells": [
  {
   "cell_type": "code",
   "execution_count": 18,
   "metadata": {},
   "outputs": [],
   "source": [
    "import ipfsapi\n",
    "import psutil\n",
    "import time\n",
    "import subprocess\n",
    "from urllib.request import urlopen\n",
    "import os\n",
    "\n",
    "def ipfs_check():\n",
    "    try:\n",
    "        api = ipfsapi.connect('127.0.0.1', 5001)\n",
    "    except:\n",
    "        for proc in psutil.process_iter():\n",
    "            if proc.name() == \"ipfs\":\n",
    "                proc.kill()\n",
    "\n",
    "    subprocess.Popen([\"ipfs\",\"daemon\"])\n",
    "\n",
    "def python_check():\n",
    "    try:\n",
    "        urlopen('http://127.0.0.1:8000', timeout=1)\n",
    "    except:\n",
    "        subprocess.Popen([\"python3\",\"/home/warproxxx/IPFS/manage.py\", \"runserver\"])\n",
    "        \n",
    "while True:\n",
    "    ipfs_check()\n",
    "    python_check()\n",
    "    \n",
    "    time.sleep(60)"
   ]
  }
 ],
 "metadata": {
  "kernelspec": {
   "display_name": "Python 3",
   "language": "python",
   "name": "python3"
  },
  "language_info": {
   "codemirror_mode": {
    "name": "ipython",
    "version": 3
   },
   "file_extension": ".py",
   "mimetype": "text/x-python",
   "name": "python",
   "nbconvert_exporter": "python",
   "pygments_lexer": "ipython3",
   "version": "3.5.2"
  }
 },
 "nbformat": 4,
 "nbformat_minor": 2
}
