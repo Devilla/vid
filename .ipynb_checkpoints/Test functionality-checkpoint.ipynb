{
 "cells": [
  {
   "cell_type": "code",
   "execution_count": 11,
   "metadata": {},
   "outputs": [],
   "source": [
    "from beem import Steem\n",
    "from beem.comment import Comment"
   ]
  },
  {
   "cell_type": "code",
   "execution_count": null,
   "metadata": {},
   "outputs": [],
   "source": []
  },
  {
   "cell_type": "code",
   "execution_count": 12,
   "metadata": {},
   "outputs": [],
   "source": [
    "thumbnail_url = \"https://gateway.ipfs.io/ipfs/QmdNRqh6g3hDvnz8UFiFVyeRc9JUwao4NgGjRcTNnEwRA8\"\n",
    "video_url = \"https://vidsocial.org/watch/QmZv3ETFBGvJ9Qo365FudFJEsN8ZX1hhUmoUWRXSeDizp3/1/\"\n",
    "title = \"Test aUpload\"\n",
    "tags = [\"offtopic\"]\n",
    "\n",
    "body = '<html><p><img src=\"{}\" width=\"480\" height=\"360\"/></p> <p><a href=\"{}\">{}</a></p></html>'\n",
    "\n",
    "steem_key = '5KQqRC7ebjofFSjEYK9NLebAThQNn3hDVQ8CnGzxYtFyQxx6SD4'\n",
    "steem_username = \"pragyan78\"\n",
    "\n",
    "smoke_key = '5KL69ew5BebPAA6QbWYEBCykmYoNJ8YMojVRgsaVM8VZ2mJ4xYA'\n",
    "smoke_username = \"pragyan78\"\n",
    "\n",
    "whaleshares_key = '5Jq788x4xoAfGuYJLVur5dn9hhiSPDChewpvrmpVcbFU5zKygxc'\n",
    "whaleshares_username = \"warproxxx\""
   ]
  },
  {
   "cell_type": "code",
   "execution_count": 13,
   "metadata": {},
   "outputs": [],
   "source": [
    "wls = Steem(node=[\"https://rpc.whaleshares.io\", \"ws://188.166.99.136:8090\", \"ws://rpc.kennybll.com:8090\"], keys=[whaleshares_key])"
   ]
  },
  {
   "cell_type": "code",
   "execution_count": 9,
   "metadata": {},
   "outputs": [
    {
     "data": {
      "text/plain": [
       "{'expiration': '2019-01-05T14:23:35',\n",
       " 'extensions': [],\n",
       " 'operations': [['comment',\n",
       "   {'author': 'pragyan78',\n",
       "    'body': 'asdsd',\n",
       "    'json_metadata': '{\"app\": \"beem/0.20.13\", \"tags\": [\"vidsocial\"]}',\n",
       "    'parent_author': '',\n",
       "    'parent_permlink': 'vidsocial',\n",
       "    'permlink': 'this-is-a-test-ass',\n",
       "    'title': 'this is a test'}]],\n",
       " 'ref_block_num': 27945,\n",
       " 'ref_block_prefix': 2508471015,\n",
       " 'signatures': ['1f709bce7c78d6d4acc3877e4a365c8201c18c943906ce055327769f0cbe7c013509376374d971237d28f2c4ae6dc5577bfffa22b9530ae11eb12276444c27eafe']}"
      ]
     },
     "execution_count": 9,
     "metadata": {},
     "output_type": "execute_result"
    }
   ],
   "source": [
    "s.post(\"this is a test\", \"asdsd\", author=\"warproxxx\")"
   ]
  },
  {
   "cell_type": "code",
   "execution_count": 10,
   "metadata": {},
   "outputs": [
    {
     "name": "stderr",
     "output_type": "stream",
     "text": [
      "Error: Bad Gateway\n",
      "Retry RPC Call on node: https://rpc.smoke.io/ (1/5) \n",
      "\n",
      "Retrying in 0 seconds\n",
      "\n"
     ]
    }
   ],
   "source": [
    "s_no_auth = Steem(nodes=[\"https://api.steemit.com\", \"https://rpc.buildteam.io\"])\n",
    "w_no_auth = Steem(node=[\"https://rpc.whaleshares.io\", \"ws://188.166.99.136:8090\", \"ws://rpc.kennybll.com:8090\"])\n",
    "sm_no_auth = Steem(node=['https://rpc.smoke.io/'], custom_chains={\"SMOKE\": {\n",
    "                    \"chain_id\": \"1ce08345e61cd3bf91673a47fc507e7ed01550dab841fd9cdb0ab66ef576aaf0\",\n",
    "                    \"min_version\": \"0.0.0\",\n",
    "                    \"prefix\": \"SMK\",\n",
    "                    \"chain_assets\": [\n",
    "                        {\"asset\": \"STEEM\", \"symbol\": \"SMOKE\", \"precision\": 3, \"id\": 1},\n",
    "                        {\"asset\": \"VESTS\", \"symbol\": \"VESTS\", \"precision\": 6, \"id\": 2}\n",
    "                    ]\n",
    "                }})"
   ]
  },
  {
   "cell_type": "code",
   "execution_count": 25,
   "metadata": {},
   "outputs": [],
   "source": [
    "#unauthenticated s\n",
    "def get_payout(s, author, permline):\n",
    "    try:\n",
    "        acc = Comment(\"@{}/{}\".format(author, permlink), steem_instance=s)\n",
    "        payout = float(str(acc.reward).split()[0])\n",
    "    except:\n",
    "        payout = 0.00\n",
    "    \n",
    "    return payout\n",
    "\n",
    "#call for all 3 and then sum and display"
   ]
  },
  {
   "cell_type": "code",
   "execution_count": 41,
   "metadata": {},
   "outputs": [],
   "source": [
    "#should send unauthenticated  s\n",
    "def get_votes(s, author, permlink):\n",
    "    acc = Comment(\"@{}/{}\".format(author, permlink), steem_instance=s)\n",
    "    \n",
    "    upvotes = 0\n",
    "    downvotes = 0\n",
    "    \n",
    "    for vote in acc.get_votes():\n",
    "        if vote.rshares > 0:\n",
    "            upvotes = upvotes + 1\n",
    "        else:\n",
    "            downvotes = downvotes + 1\n",
    "    \n",
    "    return upvotes, downvotes\n",
    "#Do this for all instance and count"
   ]
  },
  {
   "cell_type": "code",
   "execution_count": 46,
   "metadata": {},
   "outputs": [],
   "source": [
    "#Send authenticated s. Do this for all\n",
    "def upvote(s, author, permlink):\n",
    "    acc = Comment(\"@{}/{}\".format(author, permlink), steem_instance=s)\n",
    "    votes = acc.upvote(voter=author)"
   ]
  },
  {
   "cell_type": "code",
   "execution_count": 49,
   "metadata": {},
   "outputs": [],
   "source": [
    "#Send authenticated s. Do this for all\n",
    "def downvote(s, author, permlink):\n",
    "    acc = Comment(\"@{}/{}\".format(author, permlink), steem_instance=s)\n",
    "    votes = acc.downvote(voter=author)"
   ]
  },
  {
   "cell_type": "code",
   "execution_count": 10,
   "metadata": {},
   "outputs": [],
   "source": [
    "#Steem blockchain post with benificiary\n",
    "\n",
    "#post\n",
    "s = Steem(keys=[steem_key], nodes=[\"https://api.steemit.com\", \"https://rpc.buildteam.io\"])\n",
    "s_res = s.post(title=\"kuju\", body=\"aasssdsddssdasdfsbc\", author=steem_username, tags=tags, beneficiaries=[{'account': 'fiasteem', 'weight': 2500}])\n",
    "\n",
    "#process to get url\n",
    "permlink = s_res['operations'][0][1]['permlink']\n",
    "author = s_res['operations'][0][1]['author']\n",
    "tag = s_res['operations'][0][1]['parent_permlink']\n",
    "s_post_url = \"https://steemit.com/{}/@{}/{}\".format(tag, author, permlink)\n",
    "\n",
    "#get payout\n",
    "acc = Comment(\"@{}/{}\".format(author, permlink), steem_instance=s)\n",
    "payout = float(str(acc.reward).split()[0])"
   ]
  },
  {
   "cell_type": "code",
   "execution_count": 9,
   "metadata": {},
   "outputs": [],
   "source": [
    "#Whaleshares post with benificary\n",
    "wls = Steem(node=[\"https://rpc.whaleshares.io\", \"ws://188.166.99.136:8090\", \"ws://rpc.kennybll.com:8090\"], keys=[whaleshares_key])\n",
    "\n",
    "wls_res = wls.post(title=\"sdfsdsdds23sdssadsds\", body=\"asasssdsddsssddasdfsbc\", author=whaleshares_username, tags=tags, json_metadata={\n",
    "        'extensions': [[0, {\n",
    "            'beneficiaries': [\n",
    "                {'account': 'fiasteemproject', 'weight': 2500},\n",
    "            ]}\n",
    "        ]]\n",
    "    })\n",
    "\n",
    "#process to get url\n",
    "permlink = wls_res['operations'][0][1]['permlink']\n",
    "author = wls_res['operations'][0][1]['author']\n",
    "tag = wls_res['operations'][0][1]['parent_permlink']\n",
    "post_url = \"https://whaleshares.io/{}/@{}/{}\".format(tag, author, permlink)"
   ]
  },
  {
   "cell_type": "code",
   "execution_count": 22,
   "metadata": {},
   "outputs": [
    {
     "name": "stderr",
     "output_type": "stream",
     "text": [
      "Format SMK unknown. You've been warned!\n",
      "\n"
     ]
    }
   ],
   "source": [
    "smk = Steem(node=['https://rpc.smoke.io/'], keys=[smoke_key], custom_chains={\"SMOKE\": {\n",
    "        \"chain_id\": \"1ce08345e61cd3bf91673a47fc507e7ed01550dab841fd9cdb0ab66ef576aaf0\",\n",
    "        \"min_version\": \"0.0.0\",\n",
    "        \"prefix\": \"SMK\",\n",
    "        \"chain_assets\": [\n",
    "            {\"asset\": \"STEEM\", \"symbol\": \"SMOKE\", \"precision\": 3, \"id\": 1},\n",
    "            {\"asset\": \"VESTS\", \"symbol\": \"VESTS\", \"precision\": 6, \"id\": 2}\n",
    "        ]\n",
    "    }})\n",
    "\n",
    "smk_res = smk.post(title=\"sdfsdsdds23sdssadsds\", body=\"asasssdsddsssddasdfsbc\", author=smoke_username, tags=tags)\n",
    "\n",
    "#process to get url\n",
    "permlink = smk_res['operations'][0][1]['permlink']\n",
    "author = smk_res['operations'][0][1]['author']\n",
    "tag = smk_res['operations'][0][1]['parent_permlink']\n",
    "post_url = \"https://smoke.io/{}/@{}/{}\".format(tag, author, permlink)"
   ]
  }
 ],
 "metadata": {
  "kernelspec": {
   "display_name": "Python 3",
   "language": "python",
   "name": "python3"
  },
  "language_info": {
   "codemirror_mode": {
    "name": "ipython",
    "version": 3
   },
   "file_extension": ".py",
   "mimetype": "text/x-python",
   "name": "python",
   "nbconvert_exporter": "python",
   "pygments_lexer": "ipython3",
   "version": "3.5.2"
  }
 },
 "nbformat": 4,
 "nbformat_minor": 2
}
