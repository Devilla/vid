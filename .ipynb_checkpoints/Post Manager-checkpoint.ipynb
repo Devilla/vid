{
 "cells": [
  {
   "cell_type": "code",
   "execution_count": 1,
   "metadata": {},
   "outputs": [],
   "source": [
    "from blockchain_manager.manager import SteemManager, SmokeManger, WhalesharesManger\n",
    "import requests\n",
    "import json\n",
    "\n",
    "from steem import Steem as Steem"
   ]
  },
  {
   "cell_type": "code",
   "execution_count": 2,
   "metadata": {},
   "outputs": [],
   "source": [
    "%load_ext autoreload\n",
    "%autoreload 2"
   ]
  },
  {
   "cell_type": "code",
   "execution_count": 3,
   "metadata": {},
   "outputs": [],
   "source": [
    "# r=requests.get(\"https://pro-api.coinmarketcap.com/v1/cryptocurrency/quotes/latest?symbol=SMOKE,USD\", headers={\"X-CMC_PRO_API_KEY\":\"030f8706-dc8a-442b-82bb-8824eecf4e6e\"})\n",
    "# res = json.loads(r.text)\n",
    "# smoke_price = float(res['data']['SMOKE']['quote']['USD']['price'])\n",
    "\n",
    "# r=requests.get(\"https://pro-api.coinmarketcap.com/v1/cryptocurrency/quotes/latest?symbol=STEEM,USD\", headers={\"X-CMC_PRO_API_KEY\":\"030f8706-dc8a-442b-82bb-8824eecf4e6e\"})\n",
    "# res = json.loads(r.text)\n",
    "# steem_price = float(res['data']['STEEM']['quote']['USD']['price'])\n",
    "\n",
    "# r=requests.get(\"https://pro-api.coinmarketcap.com/v1/cryptocurrency/quotes/latest?symbol=WHL,USD\", headers={\"X-CMC_PRO_API_KEY\":\"030f8706-dc8a-442b-82bb-8824eecf4e6e\"})\n",
    "# res = json.loads(r.text)\n",
    "# whale_price = float(res['data']['WHL']['quote']['USD']['price'])"
   ]
  },
  {
   "cell_type": "code",
   "execution_count": 4,
   "metadata": {},
   "outputs": [],
   "source": [
    "thumbnail_url = \"https://gateway.ipfs.io/ipfs/QmdNRqh6g3hDvnz8UFiFVyeRc9JUwao4NgGjRcTNnEwRA8\"\n",
    "video_url = \"https://vidsocial.org/watch/QmZv3ETFBGvJ9Qo365FudFJEsN8ZX1hhUmoUWRXSeDizp3/1/\"\n",
    "video_title = \"Test Upload\"\n",
    "username = \"pragyan78\"\n",
    "tags = [\"tags\"]\n",
    "\n",
    "body = '<html><p><img src=\"{}\" width=\"480\" height=\"360\"/></p> <p><a href=\"{}\">{}</a></p></html>'"
   ]
  },
  {
   "cell_type": "code",
   "execution_count": 5,
   "metadata": {},
   "outputs": [],
   "source": [
    "steem_key = '5KQqRC7ebjofFSjEYK9NLebAThQNn3hDVQ8CnGzxYtFyQxx6SD4'\n",
    "smoke_key = '5KL69ew5BebPAA6QbWYEBCykmYoNJ8YMojVRgsaVM8VZ2mJ4xYA'"
   ]
  },
  {
   "cell_type": "code",
   "execution_count": 6,
   "metadata": {},
   "outputs": [],
   "source": [
    "sm = SteemManager(keys=steem_key)\n",
    "post_details = sm.post_in_steem(video_title, body.format(thumbnail_url, video_url, video_title), username, tags)\n",
    "steemPayout = sm.get_payout(post_details)\n",
    "# steem_usd = steemPayout * steem_price\n",
    "post_url = \"https://steemit.com/{}/@{}/{}\".format(json.loads(post_details['operations'][0][1]['json_metadata'])['tags'][0] ,post_details['operations'][0][1]['author'], post_details['operations'][0][1]['permlink'])"
   ]
  },
  {
   "cell_type": "code",
   "execution_count": 7,
   "metadata": {},
   "outputs": [],
   "source": [
    "s = Steem(keys=[steem_key], nodes=[\"https://api.steemit.com\", \"https://rpc.buildteam.io\"])"
   ]
  },
  {
   "cell_type": "code",
   "execution_count": null,
   "metadata": {},
   "outputs": [],
   "source": []
  },
  {
   "cell_type": "code",
   "execution_count": 8,
   "metadata": {},
   "outputs": [
    {
     "name": "stderr",
     "output_type": "stream",
     "text": [
      "Unexpected exception! Please report at https://github.com/steemit/steem-python/issues -- RPCError: tx_missing_posting_auth from api.steemit.com (missing required posting authority:Missing Posting Authority pragyan78) in verify_authority\n"
     ]
    },
    {
     "name": "stdout",
     "output_type": "stream",
     "text": [
      "failing on tx_missing_posting_auth from api.steemit.com (missing required posting authority:Missing Posting Authority pragyan78) in verify_authority\n"
     ]
    },
    {
     "ename": "RPCError",
     "evalue": "tx_missing_posting_auth from api.steemit.com (missing required posting authority:Missing Posting Authority pragyan78) in verify_authority",
     "output_type": "error",
     "traceback": [
      "\u001b[0;31m---------------------------------------------------------------------------\u001b[0m",
      "\u001b[0;31mRPCError\u001b[0m                                  Traceback (most recent call last)",
      "\u001b[0;32m<ipython-input-8-2d91e4d7d64e>\u001b[0m in \u001b[0;36m<module>\u001b[0;34m()\u001b[0m\n\u001b[0;32m----> 1\u001b[0;31m \u001b[0ms\u001b[0m\u001b[0;34m.\u001b[0m\u001b[0mcommit\u001b[0m\u001b[0;34m.\u001b[0m\u001b[0mpost\u001b[0m\u001b[0;34m(\u001b[0m\u001b[0mvideo_title\u001b[0m\u001b[0;34m,\u001b[0m \u001b[0mbody\u001b[0m\u001b[0;34m,\u001b[0m \u001b[0musername\u001b[0m\u001b[0;34m,\u001b[0m \u001b[0mtags\u001b[0m\u001b[0;34m=\u001b[0m\u001b[0mtags\u001b[0m\u001b[0;34m,\u001b[0m \u001b[0mbeneficiaries\u001b[0m\u001b[0;34m=\u001b[0m\u001b[0;34m[\u001b[0m\u001b[0;34m{\u001b[0m\u001b[0;34m'account'\u001b[0m\u001b[0;34m:\u001b[0m \u001b[0;34m'fiasteem'\u001b[0m\u001b[0;34m,\u001b[0m \u001b[0;34m'weight'\u001b[0m\u001b[0;34m:\u001b[0m \u001b[0;36m2500\u001b[0m\u001b[0;34m}\u001b[0m\u001b[0;34m]\u001b[0m\u001b[0;34m)\u001b[0m\u001b[0;34m\u001b[0m\u001b[0m\n\u001b[0m",
      "\u001b[0;32m/usr/local/lib/python3.5/dist-packages/steem/commit.py\u001b[0m in \u001b[0;36mpost\u001b[0;34m(self, title, body, author, permlink, reply_identifier, json_metadata, comment_options, community, tags, beneficiaries, self_vote)\u001b[0m\n\u001b[1;32m    351\u001b[0m             \u001b[0mops\u001b[0m\u001b[0;34m.\u001b[0m\u001b[0mappend\u001b[0m\u001b[0;34m(\u001b[0m\u001b[0mvote_op\u001b[0m\u001b[0;34m)\u001b[0m\u001b[0;34m\u001b[0m\u001b[0m\n\u001b[1;32m    352\u001b[0m \u001b[0;34m\u001b[0m\u001b[0m\n\u001b[0;32m--> 353\u001b[0;31m         \u001b[0;32mreturn\u001b[0m \u001b[0mself\u001b[0m\u001b[0;34m.\u001b[0m\u001b[0mfinalizeOp\u001b[0m\u001b[0;34m(\u001b[0m\u001b[0mops\u001b[0m\u001b[0;34m,\u001b[0m \u001b[0mauthor\u001b[0m\u001b[0;34m,\u001b[0m \u001b[0;34m\"posting\"\u001b[0m\u001b[0;34m)\u001b[0m\u001b[0;34m\u001b[0m\u001b[0m\n\u001b[0m\u001b[1;32m    354\u001b[0m \u001b[0;34m\u001b[0m\u001b[0m\n\u001b[1;32m    355\u001b[0m     \u001b[0;32mdef\u001b[0m \u001b[0mvote\u001b[0m\u001b[0;34m(\u001b[0m\u001b[0mself\u001b[0m\u001b[0;34m,\u001b[0m \u001b[0midentifier\u001b[0m\u001b[0;34m,\u001b[0m \u001b[0mweight\u001b[0m\u001b[0;34m,\u001b[0m \u001b[0maccount\u001b[0m\u001b[0;34m=\u001b[0m\u001b[0;32mNone\u001b[0m\u001b[0;34m)\u001b[0m\u001b[0;34m:\u001b[0m\u001b[0;34m\u001b[0m\u001b[0m\n",
      "\u001b[0;32m/usr/local/lib/python3.5/dist-packages/steem/commit.py\u001b[0m in \u001b[0;36mfinalizeOp\u001b[0;34m(self, ops, account, permission)\u001b[0m\n\u001b[1;32m    132\u001b[0m             \u001b[0mtx\u001b[0m\u001b[0;34m.\u001b[0m\u001b[0msign\u001b[0m\u001b[0;34m(\u001b[0m\u001b[0;34m)\u001b[0m\u001b[0;34m\u001b[0m\u001b[0m\n\u001b[1;32m    133\u001b[0m \u001b[0;34m\u001b[0m\u001b[0m\n\u001b[0;32m--> 134\u001b[0;31m         \u001b[0;32mreturn\u001b[0m \u001b[0mtx\u001b[0m\u001b[0;34m.\u001b[0m\u001b[0mbroadcast\u001b[0m\u001b[0;34m(\u001b[0m\u001b[0;34m)\u001b[0m\u001b[0;34m\u001b[0m\u001b[0m\n\u001b[0m\u001b[1;32m    135\u001b[0m \u001b[0;34m\u001b[0m\u001b[0m\n\u001b[1;32m    136\u001b[0m     \u001b[0;32mdef\u001b[0m \u001b[0msign\u001b[0m\u001b[0;34m(\u001b[0m\u001b[0mself\u001b[0m\u001b[0;34m,\u001b[0m \u001b[0munsigned_trx\u001b[0m\u001b[0;34m,\u001b[0m \u001b[0mwifs\u001b[0m\u001b[0;34m=\u001b[0m\u001b[0;34m[\u001b[0m\u001b[0;34m]\u001b[0m\u001b[0;34m)\u001b[0m\u001b[0;34m:\u001b[0m\u001b[0;34m\u001b[0m\u001b[0m\n",
      "\u001b[0;32m/usr/local/lib/python3.5/dist-packages/steem/transactionbuilder.py\u001b[0m in \u001b[0;36mbroadcast\u001b[0;34m(self)\u001b[0m\n\u001b[1;32m    143\u001b[0m             \u001b[0;32melse\u001b[0m\u001b[0;34m:\u001b[0m\u001b[0;34m\u001b[0m\u001b[0m\n\u001b[1;32m    144\u001b[0m                 \u001b[0mprint\u001b[0m\u001b[0;34m(\u001b[0m\u001b[0;34m\"failing on {}\"\u001b[0m\u001b[0;34m.\u001b[0m\u001b[0mformat\u001b[0m\u001b[0;34m(\u001b[0m\u001b[0me\u001b[0m\u001b[0;34m)\u001b[0m\u001b[0;34m)\u001b[0m\u001b[0;34m\u001b[0m\u001b[0m\n\u001b[0;32m--> 145\u001b[0;31m                 \u001b[0;32mraise\u001b[0m \u001b[0me\u001b[0m\u001b[0;34m\u001b[0m\u001b[0m\n\u001b[0m\u001b[1;32m    146\u001b[0m \u001b[0;34m\u001b[0m\u001b[0m\n\u001b[1;32m    147\u001b[0m         \u001b[0;32mtry\u001b[0m\u001b[0;34m:\u001b[0m\u001b[0;34m\u001b[0m\u001b[0m\n",
      "\u001b[0;32m/usr/local/lib/python3.5/dist-packages/steem/transactionbuilder.py\u001b[0m in \u001b[0;36mbroadcast\u001b[0;34m(self)\u001b[0m\n\u001b[1;32m    134\u001b[0m \u001b[0;34m\u001b[0m\u001b[0m\n\u001b[1;32m    135\u001b[0m         \u001b[0;32mtry\u001b[0m\u001b[0;34m:\u001b[0m\u001b[0;34m\u001b[0m\u001b[0m\n\u001b[0;32m--> 136\u001b[0;31m             \u001b[0;32mif\u001b[0m \u001b[0;32mnot\u001b[0m \u001b[0mself\u001b[0m\u001b[0;34m.\u001b[0m\u001b[0msteemd\u001b[0m\u001b[0;34m.\u001b[0m\u001b[0mverify_authority\u001b[0m\u001b[0;34m(\u001b[0m\u001b[0mself\u001b[0m\u001b[0;34m.\u001b[0m\u001b[0mjson\u001b[0m\u001b[0;34m(\u001b[0m\u001b[0;34m)\u001b[0m\u001b[0;34m)\u001b[0m\u001b[0;34m:\u001b[0m\u001b[0;34m\u001b[0m\u001b[0m\n\u001b[0m\u001b[1;32m    137\u001b[0m                 \u001b[0;32mraise\u001b[0m \u001b[0mInsufficientAuthorityError\u001b[0m\u001b[0;34m\u001b[0m\u001b[0m\n\u001b[1;32m    138\u001b[0m         \u001b[0;32mexcept\u001b[0m \u001b[0mException\u001b[0m \u001b[0;32mas\u001b[0m \u001b[0me\u001b[0m\u001b[0;34m:\u001b[0m\u001b[0;34m\u001b[0m\u001b[0m\n",
      "\u001b[0;32m/usr/local/lib/python3.5/dist-packages/steem/steemd.py\u001b[0m in \u001b[0;36mverify_authority\u001b[0;34m(self, signed_transaction)\u001b[0m\n\u001b[1;32m    748\u001b[0m         \u001b[0;34m\"\"\" verify_authority \"\"\"\u001b[0m\u001b[0;34m\u001b[0m\u001b[0m\n\u001b[1;32m    749\u001b[0m         return self.call(\n\u001b[0;32m--> 750\u001b[0;31m             'verify_authority', signed_transaction, api='database_api')\n\u001b[0m\u001b[1;32m    751\u001b[0m \u001b[0;34m\u001b[0m\u001b[0m\n\u001b[1;32m    752\u001b[0m     \u001b[0;32mdef\u001b[0m \u001b[0mverify_account_authority\u001b[0m\u001b[0;34m(\u001b[0m\u001b[0mself\u001b[0m\u001b[0;34m,\u001b[0m \u001b[0maccount\u001b[0m\u001b[0;34m,\u001b[0m \u001b[0mkeys\u001b[0m\u001b[0;34m)\u001b[0m\u001b[0;34m:\u001b[0m\u001b[0;34m\u001b[0m\u001b[0m\n",
      "\u001b[0;32m/usr/local/lib/python3.5/dist-packages/steembase/http_client.py\u001b[0m in \u001b[0;36mcall\u001b[0;34m(self, name, *args, **kwargs)\u001b[0m\n\u001b[1;32m    301\u001b[0m                              \u001b[0;34m'https://github.com/steemit/steem-python/issues'\u001b[0m \u001b[0;34m+\u001b[0m\u001b[0;34m\u001b[0m\u001b[0m\n\u001b[1;32m    302\u001b[0m                              ' -- %s: %s', e.__class__.__name__, e, extra=extra)\n\u001b[0;32m--> 303\u001b[0;31m                 \u001b[0;32mraise\u001b[0m \u001b[0me\u001b[0m\u001b[0;34m\u001b[0m\u001b[0m\n\u001b[0m\u001b[1;32m    304\u001b[0m \u001b[0;34m\u001b[0m\u001b[0m\n\u001b[1;32m    305\u001b[0m     def call_multi_with_futures(self, name, params, api=None,\n",
      "\u001b[0;32m/usr/local/lib/python3.5/dist-packages/steembase/http_client.py\u001b[0m in \u001b[0;36mcall\u001b[0;34m(self, name, *args, **kwargs)\u001b[0m\n\u001b[1;32m    276\u001b[0m                         \u001b[0;32mraise\u001b[0m \u001b[0mRPCErrorRecoverable\u001b[0m\u001b[0;34m(\u001b[0m\u001b[0mdetail\u001b[0m\u001b[0;34m)\u001b[0m\u001b[0;34m\u001b[0m\u001b[0m\n\u001b[1;32m    277\u001b[0m                     \u001b[0;32melse\u001b[0m\u001b[0;34m:\u001b[0m\u001b[0;34m\u001b[0m\u001b[0m\n\u001b[0;32m--> 278\u001b[0;31m                         \u001b[0;32mraise\u001b[0m \u001b[0mRPCError\u001b[0m\u001b[0;34m(\u001b[0m\u001b[0mdetail\u001b[0m\u001b[0;34m)\u001b[0m\u001b[0;34m\u001b[0m\u001b[0m\n\u001b[0m\u001b[1;32m    279\u001b[0m \u001b[0;34m\u001b[0m\u001b[0m\n\u001b[1;32m    280\u001b[0m                 \u001b[0;32mreturn\u001b[0m \u001b[0mresult\u001b[0m\u001b[0;34m[\u001b[0m\u001b[0;34m'result'\u001b[0m\u001b[0;34m]\u001b[0m\u001b[0;34m\u001b[0m\u001b[0m\n",
      "\u001b[0;31mRPCError\u001b[0m: tx_missing_posting_auth from api.steemit.com (missing required posting authority:Missing Posting Authority pragyan78) in verify_authority"
     ]
    }
   ],
   "source": [
    "s.commit.post(video_title, body, username, tags=tags, beneficiaries=[{'account': 'fiasteem', 'weight': 2500}])"
   ]
  },
  {
   "cell_type": "code",
   "execution_count": null,
   "metadata": {},
   "outputs": [],
   "source": [
    "smM = SmokeManger(keys=smoke_key)\n",
    "post_details = smM.post_in_steem(\"title\", \"body\", \"pragyan78\", [\"tags\"])\n",
    "permlink = post_details['operations'][0][1]['permlink']\n",
    "author = post_details['operations'][0][1]['author']\n",
    "smokePayout = smM.get_payout(post_details)\n",
    "smoke_usd = smokePayout * smoke_price"
   ]
  },
  {
   "cell_type": "code",
   "execution_count": 65,
   "metadata": {},
   "outputs": [],
   "source": [
    "ws = WhalesharesManger(keys=smoke_key)\n",
    "post_details = ws.post_in_whaleshares(\"title\", \"body\", \"pragyan78\", [\"tags\"])\n",
    "balance = ws.get_payout(\"pragyan78\")\n",
    "whale_usd = balance * whale_price"
   ]
  }
 ],
 "metadata": {
  "kernelspec": {
   "display_name": "Python 3",
   "language": "python",
   "name": "python3"
  },
  "language_info": {
   "codemirror_mode": {
    "name": "ipython",
    "version": 3
   },
   "file_extension": ".py",
   "mimetype": "text/x-python",
   "name": "python",
   "nbconvert_exporter": "python",
   "pygments_lexer": "ipython3",
   "version": "3.5.2"
  }
 },
 "nbformat": 4,
 "nbformat_minor": 2
}
