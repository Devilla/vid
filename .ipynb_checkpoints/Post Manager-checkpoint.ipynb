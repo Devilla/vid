{
 "cells": [
  {
   "cell_type": "code",
   "execution_count": 98,
   "metadata": {},
   "outputs": [],
   "source": [
    "from blockchain_manager.manager import SteemManager, SmokeManger, WhalesharesManger\n",
    "import requests\n",
    "import json"
   ]
  },
  {
   "cell_type": "code",
   "execution_count": 138,
   "metadata": {},
   "outputs": [],
   "source": [
    "r=requests.get(\"https://pro-api.coinmarketcap.com/v1/cryptocurrency/quotes/latest?symbol=SMOKE,USD\", headers={\"X-CMC_PRO_API_KEY\":\"030f8706-dc8a-442b-82bb-8824eecf4e6e\"})\n",
    "res = json.loads(r.text)\n",
    "smoke_price = float(res['data']['SMOKE']['quote']['USD']['price'])"
   ]
  },
  {
   "cell_type": "code",
   "execution_count": 139,
   "metadata": {},
   "outputs": [],
   "source": [
    "r=requests.get(\"https://pro-api.coinmarketcap.com/v1/cryptocurrency/quotes/latest?symbol=STEEM,USD\", headers={\"X-CMC_PRO_API_KEY\":\"030f8706-dc8a-442b-82bb-8824eecf4e6e\"})\n",
    "res = json.loads(r.text)\n",
    "steem_price = float(res['data']['STEEM']['quote']['USD']['price'])"
   ]
  },
  {
   "cell_type": "code",
   "execution_count": 141,
   "metadata": {},
   "outputs": [],
   "source": [
    "r=requests.get(\"https://pro-api.coinmarketcap.com/v1/cryptocurrency/quotes/latest?symbol=WHL,USD\", headers={\"X-CMC_PRO_API_KEY\":\"030f8706-dc8a-442b-82bb-8824eecf4e6e\"})\n",
    "res = json.loads(r.text)\n",
    "whale_price = float(res['data']['WHL']['quote']['USD']['price'])"
   ]
  },
  {
   "cell_type": "code",
   "execution_count": 33,
   "metadata": {},
   "outputs": [],
   "source": [
    "steem_key = '5KQqRC7ebjofFSjEYK9NLebAThQNn3hDVQ8CnGzxYtFyQxx6SD4'\n",
    "smoke_key = '5KL69ew5BebPAA6QbWYEBCykmYoNJ8YMojVRgsaVM8VZ2mJ4xYA'"
   ]
  },
  {
   "cell_type": "code",
   "execution_count": 34,
   "metadata": {},
   "outputs": [],
   "source": [
    "sm = SteemManager(keys=steem_key)\n",
    "post_details = sm.post_in_steem(\"title\", \"body\", \"pragyan78\", [\"tags\"])\n",
    "steemPayout = sm.get_payout(post_details)\n",
    "steem_usd = steemPayout * steem_price"
   ]
  },
  {
   "cell_type": "code",
   "execution_count": null,
   "metadata": {},
   "outputs": [],
   "source": [
    "smM = SmokeManger(keys=smoke_key)\n",
    "post_details = smM.post_in_steem(\"title\", \"body\", \"pragyan78\", [\"tags\"])\n",
    "permlink = post_details['operations'][0][1]['permlink']\n",
    "author = post_details['operations'][0][1]['author']\n",
    "smokePayout = smM.get_payout(post_details)\n",
    "smoke_usd = smokePayout * smoke_price"
   ]
  },
  {
   "cell_type": "code",
   "execution_count": 65,
   "metadata": {},
   "outputs": [],
   "source": [
    "ws = WhalesharesManger(keys=smoke_key)\n",
    "post_details = ws.post_in_whaleshares(\"title\", \"body\", \"pragyan78\", [\"tags\"])\n",
    "balance = ws.get_payout(\"pragyan78\")\n",
    "whale_usd = balance * whale_price"
   ]
  }
 ],
 "metadata": {
  "kernelspec": {
   "display_name": "Python 3",
   "language": "python",
   "name": "python3"
  },
  "language_info": {
   "codemirror_mode": {
    "name": "ipython",
    "version": 3
   },
   "file_extension": ".py",
   "mimetype": "text/x-python",
   "name": "python",
   "nbconvert_exporter": "python",
   "pygments_lexer": "ipython3",
   "version": "3.5.2"
  }
 },
 "nbformat": 4,
 "nbformat_minor": 2
}
