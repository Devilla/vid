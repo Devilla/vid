{
 "cells": [
  {
   "cell_type": "code",
   "execution_count": 2,
   "metadata": {},
   "outputs": [],
   "source": [
    "from beem import Steem\n",
    "from beem.comment import Comment\n",
    "from steem import Steem as Official"
   ]
  },
  {
   "cell_type": "code",
   "execution_count": 3,
   "metadata": {},
   "outputs": [],
   "source": [
    "thumbnail_url = \"https://gateway.ipfs.io/ipfs/QmdNRqh6g3hDvnz8UFiFVyeRc9JUwao4NgGjRcTNnEwRA8\"\n",
    "video_url = \"https://vidsocial.org/watch/QmZv3ETFBGvJ9Qo365FudFJEsN8ZX1hhUmoUWRXSeDizp3/1/\"\n",
    "video_title = \"Test Upload\"\n",
    "username = \"pragyan78\"\n",
    "tags = [\"offtopic\"]\n",
    "\n",
    "body = '<html><p><img src=\"{}\" width=\"480\" height=\"360\"/></p> <p><a href=\"{}\">{}</a></p></html>'\n",
    "\n",
    "steem_key = '5KQqRC7ebjofFSjEYK9NLebAThQNn3hDVQ8CnGzxYtFyQxx6SD4'\n",
    "smoke_key = '5KL69ew5BebPAA6QbWYEBCykmYoNJ8YMojVRgsaVM8VZ2mJ4xYA'\n",
    "whaleshares_key = '5Jq788x4xoAfGuYJLVur5dn9hhiSPDChewpvrmpVcbFU5zKygxc'"
   ]
  },
  {
   "cell_type": "code",
   "execution_count": 5,
   "metadata": {},
   "outputs": [],
   "source": [
    "#Steem blockchain post with benificiary\n",
    "\n",
    "#post\n",
    "s = Steem(keys=[steem_key], nodes=[\"https://api.steemit.com\", \"https://rpc.buildteam.io\"])\n",
    "s_res = s.post(title=\"sdfsdss23sdsadsds\", body=\"aasssdsddssdasdfsbc\", author=username, tags=tags, beneficiaries=[{'account': 'fiasteem', 'weight': 2500}])\n",
    "\n",
    "#process to get url\n",
    "permlink = s_res['operations'][0][1]['permlink']\n",
    "author = s_res['operations'][0][1]['author']\n",
    "tag = s_res['operations'][0][1]['parent_permlink']\n",
    "s_post_url = \"https://steemit.com/{}/@{}/{}\".format(tag, author, permlink)\n",
    "\n",
    "#get payout\n",
    "o = Official(nodes=[\"https://api.steemit.com\", \"https://rpc.buildteam.io\"])\n",
    "post_details = o.steemd.get_content(author, permlink)\n",
    "payout = float(post_details['total_payout_value'].split()[0]) + float(post_details['total_pending_payout_value'].split()[0])"
   ]
  },
  {
   "cell_type": "code",
   "execution_count": 9,
   "metadata": {},
   "outputs": [],
   "source": [
    "#Whaleshares post with benificary\n",
    "wls = Steem(node=[\"https://rpc.whaleshares.io\", \"ws://188.166.99.136:8090\", \"ws://rpc.kennybll.com:8090\"], keys=[whaleshares_key])\n",
    "\n",
    "wls_res = wls.post(title=\"sdfsdsdds23sdssadsds\", body=\"asasssdsddsssddasdfsbc\", author=\"warproxxx\", tags=tags, json_metadata={\n",
    "        'extensions': [[0, {\n",
    "            'beneficiaries': [\n",
    "                {'account': 'fiasteemproject', 'weight': 2500},\n",
    "            ]}\n",
    "        ]]\n",
    "    })\n",
    "\n",
    "#process to get url\n",
    "permlink = wls_res['operations'][0][1]['permlink']\n",
    "author = wls_res['operations'][0][1]['author']\n",
    "tag = wls_res['operations'][0][1]['parent_permlink']\n",
    "w = post_url = \"https://whaleshares.io/{}/@{}/{}\".format(tag, author, permlink)\n",
    "\n",
    "#get payout\n",
    "acc = Comment(\"@{}/{}\".format(author, permlink), steem_instance=wls)\n",
    "payout = float(str(acc.reward).split()[0])"
   ]
  },
  {
   "cell_type": "code",
   "execution_count": null,
   "metadata": {},
   "outputs": [],
   "source": []
  }
 ],
 "metadata": {
  "kernelspec": {
   "display_name": "Python 3",
   "language": "python",
   "name": "python3"
  },
  "language_info": {
   "codemirror_mode": {
    "name": "ipython",
    "version": 3
   },
   "file_extension": ".py",
   "mimetype": "text/x-python",
   "name": "python",
   "nbconvert_exporter": "python",
   "pygments_lexer": "ipython3",
   "version": "3.5.2"
  }
 },
 "nbformat": 4,
 "nbformat_minor": 2
}
