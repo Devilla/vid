{
 "cells": [
  {
   "cell_type": "code",
   "execution_count": 1,
   "metadata": {},
   "outputs": [],
   "source": [
    "from beem import Steem\n",
    "from beem.comment import Comment\n",
    "\n",
    "from steem import Steem as SteemOriginal"
   ]
  },
  {
   "cell_type": "code",
   "execution_count": null,
   "metadata": {},
   "outputs": [],
   "source": [
    "#comment to get commetns and post to post"
   ]
  },
  {
   "cell_type": "code",
   "execution_count": 13,
   "metadata": {},
   "outputs": [],
   "source": [
    "thumbnail_url = \"https://gateway.ipfs.io/ipfs/QmdNRqh6g3hDvnz8UFiFVyeRc9JUwao4NgGjRcTNnEwRA8\"\n",
    "video_url = \"https://vidsocial.org/watch/QmZv3ETFBGvJ9Qo365FudFJEsN8ZX1hhUmoUWRXSeDizp3/1/\"\n",
    "title = \"Test aUploaaad\"\n",
    "tags = [\"offtopic\"]\n",
    "\n",
    "body = '<html><p><img src=\"{}\" width=\"480\" height=\"360\"/></p> <p><a href=\"{}\">{}</a></p></html>'\n",
    "\n",
    "steem_key = '5KQqRC7ebjofFSjEYK9NLebAThQNn3hDVQ8CnGzxYtFyQxx6SD4'\n",
    "steem_username = \"pranishg\"\n",
    "\n",
    "smoke_key = '5KL69ew5BebPAA6QbWYEBCykmYoNJ8YMojVRgsaVM8VZ2mJ4xYA'\n",
    "smoke_username = \"pragyan78\"\n",
    "\n",
    "whaleshares_key = '5Jq788x4xoAfGuYJLVur5dn9hhiSPDChewpvrmpVcbFU5zKygxc'\n",
    "whaleshares_username = \"warproxxx\"\n",
    "\n",
    "nodelist_one = ['https://api.steemit.com/', 'http://appbasetest.timcliff.com/']\n",
    "nodelist_two = ['http://rpc.buildteam.io', 'http://rpc.curiesteem.com/']\n",
    "nodelist_three = ['https://rpc.steemliberator.com/', 'http://rpc.steemviz.com/']\n",
    "nodelist_four = ['http://steemd.minnowsupportproject.org/', 'http://steemd.privex.io/']\n",
    "\n",
    "s = Steem(keys=[steem_key], nodes=nodelist_one)"
   ]
  },
  {
   "cell_type": "code",
   "execution_count": 14,
   "metadata": {},
   "outputs": [],
   "source": [
    "s = SteemOriginal(keys=[\"5JSzG3UEALrM2TWUmkc6HPdqZWRceZE4u1pA6pccgcqMTbVg6Rd\"], nodes=nodelist_one)"
   ]
  },
  {
   "cell_type": "code",
   "execution_count": 15,
   "metadata": {},
   "outputs": [
    {
     "data": {
      "text/plain": [
       "{'expiration': '2019-01-07T03:00:52',\n",
       " 'extensions': [],\n",
       " 'operations': [['comment',\n",
       "   {'author': 'pranishg',\n",
       "    'body': '<html><p><img src=\"{}\" width=\"480\" height=\"360\"/></p> <p><a href=\"{}\">{}</a></p></html>',\n",
       "    'json_metadata': '{\"tags\": [\"offtopic\"]}',\n",
       "    'parent_author': '',\n",
       "    'parent_permlink': 'offtopic',\n",
       "    'permlink': 'test-auploaaad',\n",
       "    'title': 'Test aUploaaad'}],\n",
       "  ['comment_options',\n",
       "   {'allow_curation_rewards': True,\n",
       "    'allow_votes': True,\n",
       "    'author': 'pranishg',\n",
       "    'extensions': [[0,\n",
       "      {'beneficiaries': [{'account': 'fiasteem', 'weight': 2500}]}]],\n",
       "    'max_accepted_payout': '1000000.000 SBD',\n",
       "    'percent_steem_dollars': 10000,\n",
       "    'permlink': 'test-auploaaad'}]],\n",
       " 'ref_block_num': 6294,\n",
       " 'ref_block_prefix': 3877387237,\n",
       " 'signatures': ['201d2f081a77136d2ec3ae3e5da53b15d51af6304aced83b4f5d502f91ca04d74b5da95bee1471523593b03a8438d7dbc02aeda68b78692db5d42d60a15aedeae7']}"
      ]
     },
     "execution_count": 15,
     "metadata": {},
     "output_type": "execute_result"
    }
   ],
   "source": [
    "s.commit.post(title=title, body=body, author=\"pranishg\", tags=tags, beneficiaries=[{'account': 'fiasteem', 'weight': 2500}])"
   ]
  },
  {
   "cell_type": "code",
   "execution_count": 5,
   "metadata": {},
   "outputs": [
    {
     "data": {
      "text/plain": [
       "{'expiration': '2019-01-06T16:07:12',\n",
       " 'extensions': [],\n",
       " 'operations': [['comment',\n",
       "   {'author': 'pragyan78',\n",
       "    'body': '<html><p><img src=\"{}\" width=\"480\" height=\"360\"/></p> <p><a href=\"{}\">{}</a></p></html>',\n",
       "    'json_metadata': '{\"app\": \"beem/0.20.13\", \"tags\": [\"offtopic\"], \"extensions\": [[0, {\"beneficiaries\": [{\"weight\": 2500, \"account\": \"fiasteem\"}]}]]}',\n",
       "    'parent_author': '',\n",
       "    'parent_permlink': 'offtopic',\n",
       "    'permlink': 'test-aupload',\n",
       "    'title': 'Test aUpload'}]],\n",
       " 'ref_block_num': 58780,\n",
       " 'ref_block_prefix': 1400297084,\n",
       " 'signatures': ['2078ace1873e9a554e4e255350db2a99438b5e86db86d9c629cb08dc7e5fb194b62eabfc60e406939c1c6d66a68ee7ff51ed3565ce1b8eae20424661f3fbc74822']}"
      ]
     },
     "execution_count": 5,
     "metadata": {},
     "output_type": "execute_result"
    }
   ],
   "source": [
    "s.post(title=title, body=body, author=steem_username, tags=tags, json_metadata={\n",
    "        'extensions': [[0, {\n",
    "            'beneficiaries': [\n",
    "                {'account': 'fiasteem', 'weight': 2500},\n",
    "            ]}\n",
    "        ]]\n",
    "    })"
   ]
  },
  {
   "cell_type": "code",
   "execution_count": 13,
   "metadata": {},
   "outputs": [],
   "source": [
    "wls = Steem(node=[\"https://rpc.whaleshares.io\", \"ws://188.166.99.136:8090\", \"ws://rpc.kennybll.com:8090\"], keys=[whaleshares_key])"
   ]
  },
  {
   "cell_type": "code",
   "execution_count": 15,
   "metadata": {},
   "outputs": [
    {
     "name": "stderr",
     "output_type": "stream",
     "text": [
      "Format SMK unknown. You've been warned!\n",
      "\n"
     ]
    }
   ],
   "source": [
    "smk = Steem(node=['https://rpc.smoke.io/'], keys=[smoke_key], custom_chains={\"SMOKE\": {\n",
    "            \"chain_id\": \"1ce08345e61cd3bf91673a47fc507e7ed01550dab841fd9cdb0ab66ef576aaf0\",\n",
    "            \"min_version\": \"0.0.0\",\n",
    "            \"prefix\": \"SMK\",\n",
    "            \"chain_assets\": [\n",
    "                {\"asset\": \"STEEM\", \"symbol\": \"SMOKE\", \"precision\": 3, \"id\": 1},\n",
    "                {\"asset\": \"VESTS\", \"symbol\": \"VESTS\", \"precision\": 6, \"id\": 2}\n",
    "            ]\n",
    "        }})"
   ]
  },
  {
   "cell_type": "code",
   "execution_count": 19,
   "metadata": {},
   "outputs": [
    {
     "data": {
      "text/plain": [
       "{'expiration': '2019-01-05T14:37:04',\n",
       " 'extensions': [],\n",
       " 'operations': [['comment',\n",
       "   {'author': 'pragyan78',\n",
       "    'body': '<html><p><img src=\"{}\" width=\"480\" height=\"360\"/></p> <p><a href=\"{}\">{}</a></p></html>',\n",
       "    'json_metadata': '{\"extensions\": [[0, {\"beneficiaries\": [{\"account\": \"fiasteem\", \"weight\": 2500}]}]], \"app\": \"beem/0.20.13\", \"tags\": [\"offtopic\"]}',\n",
       "    'parent_author': '',\n",
       "    'parent_permlink': 'offtopic',\n",
       "    'permlink': 'test-aupload',\n",
       "    'title': 'Test aUpload'}]],\n",
       " 'ref_block_num': 25963,\n",
       " 'ref_block_prefix': 1344867791,\n",
       " 'signatures': ['1f4a1238cf01882765749a9477015ad6dbb6bff5c4ab554bd5918e7ea78018386719e4b3ee7c38be98547281a87b4fbd1046f60bf4d27a2f011e9bcdf89601ac1f']}"
      ]
     },
     "execution_count": 19,
     "metadata": {},
     "output_type": "execute_result"
    }
   ],
   "source": [
    "smk.post(title=title, body=body, author=smoke_username, tags=tags, json_metadata={\n",
    "        'extensions': [[0, {\n",
    "            'beneficiaries': [\n",
    "                {'account': 'fiasteem', 'weight': 2500},\n",
    "            ]}\n",
    "        ]]\n",
    "    })"
   ]
  },
  {
   "cell_type": "code",
   "execution_count": 10,
   "metadata": {},
   "outputs": [
    {
     "name": "stderr",
     "output_type": "stream",
     "text": [
      "Error: Bad Gateway\n",
      "Retry RPC Call on node: https://rpc.smoke.io/ (1/5) \n",
      "\n",
      "Retrying in 0 seconds\n",
      "\n"
     ]
    }
   ],
   "source": [
    "s_no_auth = Steem(nodes=[\"https://api.steemit.com\", \"https://rpc.buildteam.io\"])\n",
    "w_no_auth = Steem(node=[\"https://rpc.whaleshares.io\", \"ws://188.166.99.136:8090\", \"ws://rpc.kennybll.com:8090\"])\n",
    "sm_no_auth = Steem(node=['https://rpc.smoke.io/'], custom_chains={\"SMOKE\": {\n",
    "                    \"chain_id\": \"1ce08345e61cd3bf91673a47fc507e7ed01550dab841fd9cdb0ab66ef576aaf0\",\n",
    "                    \"min_version\": \"0.0.0\",\n",
    "                    \"prefix\": \"SMK\",\n",
    "                    \"chain_assets\": [\n",
    "                        {\"asset\": \"STEEM\", \"symbol\": \"SMOKE\", \"precision\": 3, \"id\": 1},\n",
    "                        {\"asset\": \"VESTS\", \"symbol\": \"VESTS\", \"precision\": 6, \"id\": 2}\n",
    "                    ]\n",
    "                }})"
   ]
  },
  {
   "cell_type": "code",
   "execution_count": 25,
   "metadata": {},
   "outputs": [],
   "source": [
    "#unauthenticated s\n",
    "def get_payout(s, author, permline):\n",
    "    try:\n",
    "        acc = Comment(\"@{}/{}\".format(author, permlink), steem_instance=s)\n",
    "        payout = float(str(acc.reward).split()[0])\n",
    "    except:\n",
    "        payout = 0.00\n",
    "    \n",
    "    return payout\n",
    "\n",
    "#call for all 3 and then sum and display"
   ]
  },
  {
   "cell_type": "code",
   "execution_count": 41,
   "metadata": {},
   "outputs": [],
   "source": [
    "#should send unauthenticated  s\n",
    "def get_votes(s, author, permlink):\n",
    "    acc = Comment(\"@{}/{}\".format(author, permlink), steem_instance=s)\n",
    "    \n",
    "    upvotes = 0\n",
    "    downvotes = 0\n",
    "    \n",
    "    for vote in acc.get_votes():\n",
    "        if vote.rshares > 0:\n",
    "            upvotes = upvotes + 1\n",
    "        else:\n",
    "            downvotes = downvotes + 1\n",
    "    \n",
    "    return upvotes, downvotes\n",
    "#Do this for all instance and count"
   ]
  },
  {
   "cell_type": "code",
   "execution_count": 46,
   "metadata": {},
   "outputs": [],
   "source": [
    "#Send authenticated s. Do this for all\n",
    "def upvote(s, author, permlink):\n",
    "    acc = Comment(\"@{}/{}\".format(author, permlink), steem_instance=s)\n",
    "    votes = acc.upvote(voter=author)"
   ]
  },
  {
   "cell_type": "code",
   "execution_count": 49,
   "metadata": {},
   "outputs": [],
   "source": [
    "#Send authenticated s. Do this for all\n",
    "def downvote(s, author, permlink):\n",
    "    acc = Comment(\"@{}/{}\".format(author, permlink), steem_instance=s)\n",
    "    votes = acc.downvote(voter=author)"
   ]
  },
  {
   "cell_type": "code",
   "execution_count": 10,
   "metadata": {},
   "outputs": [],
   "source": [
    "#Steem blockchain post with benificiary\n",
    "\n",
    "#post\n",
    "s = Steem(keys=[steem_key], nodes=[\"https://api.steemit.com\", \"https://rpc.buildteam.io\"])\n",
    "s_res = s.post(title=\"kuju\", body=\"aasssdsddssdasdfsbc\", author=steem_username, tags=tags, beneficiaries=[{'account': 'fiasteem', 'weight': 2500}])\n",
    "\n",
    "#process to get url\n",
    "permlink = s_res['operations'][0][1]['permlink']\n",
    "author = s_res['operations'][0][1]['author']\n",
    "tag = s_res['operations'][0][1]['parent_permlink']\n",
    "s_post_url = \"https://steemit.com/{}/@{}/{}\".format(tag, author, permlink)\n",
    "\n",
    "#get payout\n",
    "acc = Comment(\"@{}/{}\".format(author, permlink), steem_instance=s)\n",
    "payout = float(str(acc.reward).split()[0])"
   ]
  },
  {
   "cell_type": "code",
   "execution_count": 9,
   "metadata": {},
   "outputs": [],
   "source": [
    "#Whaleshares post with benificary\n",
    "wls = Steem(node=[\"https://rpc.whaleshares.io\", \"ws://188.166.99.136:8090\", \"ws://rpc.kennybll.com:8090\"], keys=[whaleshares_key])\n",
    "\n",
    "wls_res = wls.post(title=\"sdfsdsdds23sdssadsds\", body=\"asasssdsddsssddasdfsbc\", author=whaleshares_username, tags=tags, json_metadata={\n",
    "        'extensions': [[0, {\n",
    "            'beneficiaries': [\n",
    "                {'account': 'fiasteemproject', 'weight': 2500},\n",
    "            ]}\n",
    "        ]]\n",
    "    })\n",
    "\n",
    "#process to get url\n",
    "permlink = wls_res['operations'][0][1]['permlink']\n",
    "author = wls_res['operations'][0][1]['author']\n",
    "tag = wls_res['operations'][0][1]['parent_permlink']\n",
    "post_url = \"https://whaleshares.io/{}/@{}/{}\".format(tag, author, permlink)"
   ]
  },
  {
   "cell_type": "code",
   "execution_count": 22,
   "metadata": {},
   "outputs": [
    {
     "name": "stderr",
     "output_type": "stream",
     "text": [
      "Format SMK unknown. You've been warned!\n",
      "\n"
     ]
    }
   ],
   "source": [
    "smk = Steem(node=['https://rpc.smoke.io/'], keys=[smoke_key], custom_chains={\"SMOKE\": {\n",
    "        \"chain_id\": \"1ce08345e61cd3bf91673a47fc507e7ed01550dab841fd9cdb0ab66ef576aaf0\",\n",
    "        \"min_version\": \"0.0.0\",\n",
    "        \"prefix\": \"SMK\",\n",
    "        \"chain_assets\": [\n",
    "            {\"asset\": \"STEEM\", \"symbol\": \"SMOKE\", \"precision\": 3, \"id\": 1},\n",
    "            {\"asset\": \"VESTS\", \"symbol\": \"VESTS\", \"precision\": 6, \"id\": 2}\n",
    "        ]\n",
    "    }})\n",
    "\n",
    "smk_res = smk.post(title=\"sdfsdsdds23sdssadsds\", body=\"asasssdsddsssddasdfsbc\", author=smoke_username, tags=tags)\n",
    "\n",
    "#process to get url\n",
    "permlink = smk_res['operations'][0][1]['permlink']\n",
    "author = smk_res['operations'][0][1]['author']\n",
    "tag = smk_res['operations'][0][1]['parent_permlink']\n",
    "post_url = \"https://smoke.io/{}/@{}/{}\".format(tag, author, permlink)"
   ]
  }
 ],
 "metadata": {
  "kernelspec": {
   "display_name": "Python 3",
   "language": "python",
   "name": "python3"
  },
  "language_info": {
   "codemirror_mode": {
    "name": "ipython",
    "version": 3
   },
   "file_extension": ".py",
   "mimetype": "text/x-python",
   "name": "python",
   "nbconvert_exporter": "python",
   "pygments_lexer": "ipython3",
   "version": "3.5.2"
  }
 },
 "nbformat": 4,
 "nbformat_minor": 2
}
