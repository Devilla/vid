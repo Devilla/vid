{
 "cells": [
  {
   "cell_type": "code",
   "execution_count": 1,
   "metadata": {
    "collapsed": true
   },
   "outputs": [],
   "source": [
    "from bitshares import BitShares\n",
    "import os\n",
    "from bitshares.account import Account\n",
    "from bitshares.memo import Memo\n",
    "import uuid"
   ]
  },
  {
   "cell_type": "code",
   "execution_count": 2,
   "metadata": {
    "collapsed": false,
    "scrolled": true
   },
   "outputs": [],
   "source": [
    "pass_phrase = \"OKFjkrk3412\"\n",
    "\n",
    "owner_key = \"5JrC9FxgxtJ8fi8UjPgL57KH27ToVngEZ7Aka6uSSNBFb2XTVgB\"\n",
    "memo_key = \"5KUVfh5zagFRheVT8G4PQXjknw25nuEXizsh3k3JhY3J5cEkq1H\"\n",
    "active_key = \"5JyorRk13HM1WDJ4VvPE7WimPa4KB21qhLQMTcuZkNxBdafdQnV\"\n",
    "\n",
    "bitshares = BitShares(node=[\"wss://openledger.hk/ws\", \"wss://us.nodes.bitshares.ws\", \"wss://bitshares.openledger.info/ws\"])\n",
    "\n",
    "try:\n",
    "    bitshares.wallet.create(pass_phrase)\n",
    "    bitshares.wallet.addPrivateKey(owner_key)\n",
    "    bitshares.wallet.addPrivateKey(active_key)\n",
    "    bitshares.wallet.addPrivateKey(memo_key)\n",
    "except:\n",
    "    bitshares.wallet.unlock(pass_phrase)"
   ]
  },
  {
   "cell_type": "code",
   "execution_count": 3,
   "metadata": {
    "collapsed": true
   },
   "outputs": [],
   "source": [
    "uid = uuid.uuid4().hex[:16]\n",
    "acc = bitshares.wallet.getAccounts()[0]['account']\n",
    "m = Memo(blockchain=bitshares)\n",
    "m.blockchain.wallet.unlock(pass_phrase)"
   ]
  },
  {
   "cell_type": "code",
   "execution_count": 27,
   "metadata": {
    "collapsed": false
   },
   "outputs": [],
   "source": [
    "def verify_transaction(acc, m, to_send_text, to_send_amount):\n",
    "    for transaction in acc.history():\n",
    "        currInfo = transaction['op'][1]\n",
    "\n",
    "        if 'to' in currInfo:\n",
    "            valid = currInfo\n",
    "            if(currInfo['to'] == acc.identifier):\n",
    "                amount = currInfo['amount']['amount']/100\n",
    "                memo = m.decrypt(valid['memo'])\n",
    "                \n",
    "                if int(to_send_amount) == int(amount) and to_send_text == memo:\n",
    "                    return True\n",
    "        \n",
    "    return False"
   ]
  },
  {
   "cell_type": "code",
   "execution_count": 4,
   "metadata": {
    "collapsed": false
   },
   "outputs": [
    {
     "name": "stdout",
     "output_type": "stream",
     "text": [
      "{'trx_in_block': 28, 'virtual_op': 4012, 'id': '1.11.732400496', 'op': [0, {'fee': {'asset_id': '1.3.4938', 'amount': 12}, 'from': '1.2.1151689', 'memo': {'nonce': '396607680372341', 'message': '11e85a0f2538090fd7acd4fa42826156f6f3c220e781a22119a0771c01e206cd', 'from': 'BTS6Pxm56HvegYxpbTQnAh1kUXXUWHyq22kqg9TGJAURNm6DZB5a8', 'to': 'BTS8EBe3P4GUJH1Q9S5fbP7tS4CmAhzQZbutn9EsptCV7Y1cosrwb'}, 'amount': {'asset_id': '1.3.4938', 'amount': 1000}, 'to': '1.2.1299021', 'extensions': []}], 'block_num': 34580664, 'result': [0, {}], 'op_in_trx': 0}\n",
      "{'trx_in_block': 13, 'virtual_op': 19262, 'id': '1.11.731574612', 'op': [0, {'fee': {'asset_id': '1.3.4938', 'amount': 12}, 'from': '1.2.1151689', 'memo': {'nonce': '396597309106858', 'message': 'a04d13826651c755d8c2cf969dec1a7f281ee42f7a3fbd27c5ca7be95095c29a', 'from': 'BTS6Pxm56HvegYxpbTQnAh1kUXXUWHyq22kqg9TGJAURNm6DZB5a8', 'to': 'BTS8EBe3P4GUJH1Q9S5fbP7tS4CmAhzQZbutn9EsptCV7Y1cosrwb'}, 'amount': {'asset_id': '1.3.4938', 'amount': 1000}, 'to': '1.2.1299021', 'extensions': []}], 'block_num': 34567195, 'result': [0, {}], 'op_in_trx': 0}\n",
      "{'trx_in_block': 2, 'virtual_op': 64899, 'id': '1.11.731480989', 'op': [0, {'fee': {'asset_id': '1.3.4938', 'amount': 12}, 'from': '1.2.1151689', 'memo': {'nonce': '396596116054099', 'message': '79b0d2ada8809ef2a9c06333285342814250fe2d62f29f3cd8bf99941d240d79', 'from': 'BTS6Pxm56HvegYxpbTQnAh1kUXXUWHyq22kqg9TGJAURNm6DZB5a8', 'to': 'BTS8EBe3P4GUJH1Q9S5fbP7tS4CmAhzQZbutn9EsptCV7Y1cosrwb'}, 'amount': {'asset_id': '1.3.4938', 'amount': 1000}, 'to': '1.2.1299021', 'extensions': []}], 'block_num': 34565645, 'result': [0, {}], 'op_in_trx': 0}\n",
      "{'trx_in_block': 6, 'virtual_op': 43618, 'id': '1.11.730682514', 'op': [0, {'fee': {'asset_id': '1.3.4938', 'amount': 11}, 'from': '1.2.1151689', 'memo': {'nonce': '396585616669554', 'message': 'd9d772a6e7db87da621066e98b4cdb69', 'from': 'BTS6Pxm56HvegYxpbTQnAh1kUXXUWHyq22kqg9TGJAURNm6DZB5a8', 'to': 'BTS8EBe3P4GUJH1Q9S5fbP7tS4CmAhzQZbutn9EsptCV7Y1cosrwb'}, 'amount': {'asset_id': '1.3.4938', 'amount': 1100}, 'to': '1.2.1299021', 'extensions': []}], 'block_num': 34552222, 'result': [0, {}], 'op_in_trx': 0}\n",
      "{'trx_in_block': 10, 'virtual_op': 64098, 'id': '1.11.730524222', 'op': [0, {'fee': {'asset_id': '1.3.4938', 'amount': 12}, 'from': '1.2.1151689', 'memo': {'nonce': '396584295117852', 'message': '5df464acae061d80fafccc0edf666bafe354182ade57da7948ce432c4f699862', 'from': 'BTS6Pxm56HvegYxpbTQnAh1kUXXUWHyq22kqg9TGJAURNm6DZB5a8', 'to': 'BTS8EBe3P4GUJH1Q9S5fbP7tS4CmAhzQZbutn9EsptCV7Y1cosrwb'}, 'amount': {'asset_id': '1.3.4938', 'amount': 1000}, 'to': '1.2.1299021', 'extensions': []}], 'block_num': 34550511, 'result': [0, {}], 'op_in_trx': 0}\n",
      "{'trx_in_block': 30, 'virtual_op': 20438, 'id': '1.11.730505043', 'op': [5, {'fee': {'asset_id': '1.3.0', 'amount': 58504}, 'active': {'account_auths': [], 'key_auths': [['BTS698yr7SoUubd3vKsi3B1oQGdy3PAfgszPV9aoa1CSvMxtLGRpi', 1]], 'weight_threshold': 1, 'address_auths': []}, 'referrer': '1.2.450921', 'owner': {'account_auths': [], 'key_auths': [['BTS7hMuewSZAjhW79jCjQxUqxvyM2WCXvbEH8wv29VjfKcmiNWcYg', 1]], 'weight_threshold': 1, 'address_auths': []}, 'name': 'vidsocial-13', 'referrer_percent': 7000, 'options': {'num_witness': 0, 'voting_account': '1.2.5', 'num_committee': 0, 'extensions': [], 'votes': [], 'memo_key': 'BTS8EBe3P4GUJH1Q9S5fbP7tS4CmAhzQZbutn9EsptCV7Y1cosrwb'}, 'registrar': '1.2.450921', 'extensions': {}}], 'block_num': 34550165, 'result': [1, '1.2.1299021'], 'op_in_trx': 0}\n"
     ]
    }
   ],
   "source": [
    "for transaction in acc.history():\n",
    "    print(transaction)"
   ]
  },
  {
   "cell_type": "code",
   "execution_count": null,
   "metadata": {
    "collapsed": true
   },
   "outputs": [],
   "source": []
  }
 ],
 "metadata": {
  "anaconda-cloud": {},
  "kernelspec": {
   "display_name": "Python [conda root]",
   "language": "python",
   "name": "conda-root-py"
  },
  "language_info": {
   "codemirror_mode": {
    "name": "ipython",
    "version": 3
   },
   "file_extension": ".py",
   "mimetype": "text/x-python",
   "name": "python",
   "nbconvert_exporter": "python",
   "pygments_lexer": "ipython3",
   "version": "3.5.2"
  }
 },
 "nbformat": 4,
 "nbformat_minor": 1
}
